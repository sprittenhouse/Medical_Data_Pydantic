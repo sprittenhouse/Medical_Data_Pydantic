{
 "cells": [
  {
   "cell_type": "markdown",
   "id": "932bafe0-1001-4250-b5d7-af49e94d02e8",
   "metadata": {},
   "source": [
    "## Pydantic Model for Medical Data Validation:\n",
    "\n",
    "### MedicalData class inherits from BaseModel.\n",
    "Fields like <code> age, medical_conditions, income, and employed </code> are defined with their types and constraints.\n",
    "Validators:\n",
    "\n",
    "<code>check_conditions</code>: Ensures only valid medical conditions are included.\n",
    "\n",
    "<code>check_income</code>: Ensures income is non-negative.\n",
    "\n",
    "<code>check_age</code>: Ensures age is at least 18.\n",
    "\n",
    "<code>check_employment_details</code>: Ensures that if the person is employed, they must provide details about their employment.\n",
    "\n",
    "### Sample Data:\n",
    "\n",
    "Provided sample data is used to test the model. If the data is valid, it prints the validated data; otherwise, it catches and prints validation errors.\n"
   ]
  },
  {
   "cell_type": "code",
   "execution_count": 5,
   "id": "34472c9c-e316-4cea-a609-a00e299f72a0",
   "metadata": {},
   "outputs": [
    {
     "name": "stdout",
     "output_type": "stream",
     "text": [
      "Validated medical data: age=45 medical_conditions=['diabetes'] income=Decimal('25000.00') employed=True employment_status_details='Full-time'\n"
     ]
    }
   ],
   "source": [
    "from typing import List, Optional\n",
    "from pydantic import BaseModel, validator, constr, condecimal, conint\n",
    "\n",
    "class MedicalData(BaseModel):\n",
    "    age: conint(ge=0)  # Age must be a non-negative integer\n",
    "    medical_conditions: List[str]  # List of medical conditions\n",
    "    income: condecimal(max_digits=10, decimal_places=2)  # Income with two decimal places\n",
    "    employed: bool  # Employment status\n",
    "    \n",
    "    # Optional field for more specific details\n",
    "    employment_status_details: Optional[str] = None\n",
    "\n",
    "    @validator('medical_conditions')\n",
    "    def check_conditions(cls, v):\n",
    "        valid_conditions = {'diabetes', 'hypertension', 'asthma', 'heart disease'}\n",
    "        for condition in v:\n",
    "            if condition not in valid_conditions:\n",
    "                raise ValueError(f\"Invalid medical condition: {condition}\")\n",
    "        return v\n",
    "\n",
    "    @validator('income')\n",
    "    def check_income(cls, v):\n",
    "        if v < 0:\n",
    "            raise ValueError(\"Income must be a non-negative number.\")\n",
    "        return v\n",
    "\n",
    "    @validator('age')\n",
    "    def check_age(cls, v):\n",
    "        if v < 18:\n",
    "            raise ValueError(\"Age must be at least 18.\")\n",
    "        return v\n",
    "\n",
    "    @validator('employment_status_details', always=True)\n",
    "    def check_employment_details(cls, v, values):\n",
    "        if values['employed'] and not v:\n",
    "            raise ValueError(\"Employment status details are required if employed.\")\n",
    "        return v\n",
    "\n",
    "# Sample data\n",
    "data = {\n",
    "    'age': 45,\n",
    "    'medical_conditions': ['diabetes'],\n",
    "    'income': '25000.00',\n",
    "    'employed': True,\n",
    "    'employment_status_details': 'Full-time'\n",
    "}\n",
    "\n",
    "try:\n",
    "    medical_data = MedicalData(**data)\n",
    "    print(\"Validated medical data:\", medical_data)\n",
    "except ValueError as e:\n",
    "    print(\"Validation error:\", e)\n"
   ]
  },
  {
   "cell_type": "code",
   "execution_count": null,
   "id": "e186cbe6-fcbc-4d18-9049-0569b22324f5",
   "metadata": {},
   "outputs": [],
   "source": []
  }
 ],
 "metadata": {
  "kernelspec": {
   "display_name": "Python 3 (ipykernel)",
   "language": "python",
   "name": "python3"
  },
  "language_info": {
   "codemirror_mode": {
    "name": "ipython",
    "version": 3
   },
   "file_extension": ".py",
   "mimetype": "text/x-python",
   "name": "python",
   "nbconvert_exporter": "python",
   "pygments_lexer": "ipython3",
   "version": "3.11.7"
  }
 },
 "nbformat": 4,
 "nbformat_minor": 5
}
