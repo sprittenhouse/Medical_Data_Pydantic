{
 "cells": [
  {
   "cell_type": "markdown",
   "id": "932bafe0-1001-4250-b5d7-af49e94d02e8",
   "metadata": {},
   "source": [
    "## Pydantic Model for Medical Data Validation:\n",
    "\n",
    "### BenefitUser class inherits from BaseModel.\n",
    "Fields like <code> age, medical_conditions, income, and employed </code> are defined with their types and constraints.\n",
    "\n",
    "\n",
    "### Validators:\n",
    "\n",
    "<code>check_conditions</code>: Ensures only valid medical conditions are included.\n",
    "\n",
    "<code>check_income</code>: Ensures income is non-negative.\n",
    "\n",
    "<code>check_age</code>: Ensures age is at least 18.\n",
    "\n",
    "<code>check_employment_details</code>: Ensures that if the person is employed, they must provide details about their employment.\n",
    "\n",
    "### Sample Data:\n",
    "\n",
    "Provided sample data is used to test the model. If the data is valid, it prints the validated data; otherwise, it catches and prints validation errors.\n"
   ]
  },
  {
   "cell_type": "code",
   "execution_count": 95,
   "id": "e186cbe6-fcbc-4d18-9049-0569b22324f5",
   "metadata": {},
   "outputs": [
    {
     "ename": "ValidationError",
     "evalue": "1 validation error for BenefitUser\naccount_id\n  account id 5687431v is not 8 digits long (type=type_error)",
     "output_type": "error",
     "traceback": [
      "\u001b[0;31m---------------------------------------------------------------------------\u001b[0m",
      "\u001b[0;31mValidationError\u001b[0m                           Traceback (most recent call last)",
      "Cell \u001b[0;32mIn[95], line 66\u001b[0m\n\u001b[1;32m     56\u001b[0m \u001b[38;5;66;03m# Sample data\u001b[39;00m\n\u001b[1;32m     57\u001b[0m data \u001b[38;5;241m=\u001b[39m {\n\u001b[1;32m     58\u001b[0m     \u001b[38;5;124m'\u001b[39m\u001b[38;5;124mname\u001b[39m\u001b[38;5;124m'\u001b[39m: \u001b[38;5;124m'\u001b[39m\u001b[38;5;124mDoug Benedict\u001b[39m\u001b[38;5;124m'\u001b[39m,\n\u001b[1;32m     59\u001b[0m     \u001b[38;5;124m'\u001b[39m\u001b[38;5;124maccount_id\u001b[39m\u001b[38;5;124m'\u001b[39m: \u001b[38;5;124m'\u001b[39m\u001b[38;5;124m5687431v\u001b[39m\u001b[38;5;124m'\u001b[39m,\n\u001b[0;32m   (...)\u001b[0m\n\u001b[1;32m     64\u001b[0m     \u001b[38;5;124m'\u001b[39m\u001b[38;5;124memployment_status_details\u001b[39m\u001b[38;5;124m'\u001b[39m: \u001b[38;5;124m'\u001b[39m\u001b[38;5;124mFull-time\u001b[39m\u001b[38;5;124m'\u001b[39m\n\u001b[1;32m     65\u001b[0m }\n\u001b[0;32m---> 66\u001b[0m user \u001b[38;5;241m=\u001b[39m BenefitUser(\u001b[38;5;241m*\u001b[39m\u001b[38;5;241m*\u001b[39mdata)\n",
      "File \u001b[0;32m/opt/anaconda3/lib/python3.11/site-packages/pydantic/main.py:341\u001b[0m, in \u001b[0;36mpydantic.main.BaseModel.__init__\u001b[0;34m()\u001b[0m\n",
      "\u001b[0;31mValidationError\u001b[0m: 1 validation error for BenefitUser\naccount_id\n  account id 5687431v is not 8 digits long (type=type_error)"
     ]
    }
   ],
   "source": [
    "# Pydantic takes care of the issue of dynamic typing\n",
    "# Type Hints\n",
    "# Data Validation\n",
    "# JSON Serialization\n",
    "from typing import List, Optional\n",
    "from pydantic import BaseModel, validator, constr, condecimal, conint\n",
    "\n",
    "class BenefitUser(BaseModel):\n",
    "    name: str\n",
    "    account_id: str\n",
    "    medical_conditions: List[str]\n",
    "    income: condecimal(max_digits=10, decimal_places=2)\n",
    "    age: conint(ge=0)\n",
    "    employed: bool\n",
    "\n",
    "    employment_status_details: Optional[str]=None\n",
    "\n",
    "    @validator('name') # name cannot be empty nor numeric \n",
    "    def check_name(cls, v):\n",
    "        if v.isnumeric() or not v:\n",
    "            raise TypeError('Name {v} is not a valid name'.format(v=v))\n",
    "        return v\n",
    "\n",
    "    @validator('account_id') # must be 8 digits long\n",
    "    def check_account_id(cls, v):\n",
    "        if len(v) != 8 or not v.isnumeric():\n",
    "            raise TypeError('account id {v} is not 8 digits long'.format(v=v))\n",
    "        return v\n",
    "\n",
    "    @validator('medical_conditions')\n",
    "    def check_conditions(cls, v):\n",
    "        valid_conditions = {'diabetes', 'hypertension', 'asthma', 'heart disease'}\n",
    "        for condition in v:\n",
    "            if condition not in valid_conditions:\n",
    "                raise ValueError(f\"Invalid medical condition: {condition}\")\n",
    "        return v\n",
    "\n",
    "    @validator('income')\n",
    "    def check_income(cls, v):\n",
    "        if v < 0:\n",
    "            raise ValueError(\"Income must be a non-negative number.\")\n",
    "        return v\n",
    "\n",
    "    @validator('age')\n",
    "    def check_age(cls, v):\n",
    "        if v < 18:\n",
    "            raise ValueError(\"Age must be at least 18.\")\n",
    "        return v\n",
    "\n",
    "    @validator('employment_status_details', always=True)\n",
    "    def check_employment_details(cls, v, values):\n",
    "        if values['employed'] and not v:\n",
    "            raise ValueError(\"Employment status details are required if employed.\")\n",
    "        return v\n",
    "        \n",
    "\n",
    "# Sample data\n",
    "data = {\n",
    "    'name': 'Doug Benedict',\n",
    "    'account_id': '5687431v',\n",
    "    'age': 45,\n",
    "    'medical_conditions': ['diabetes'],\n",
    "    'income': '25000.00',\n",
    "    'employed': True,\n",
    "    'employment_status_details': 'Full-time'\n",
    "}\n",
    "user = BenefitUser(**data)"
   ]
  },
  {
   "cell_type": "code",
   "execution_count": 100,
   "id": "40747772-d5fd-48a2-81a3-bdae1fbe22fe",
   "metadata": {},
   "outputs": [
    {
     "name": "stdout",
     "output_type": "stream",
     "text": [
      "Validated Benefit User: name='Doug Benedict' account_id='56874319' medical_conditions=['diabetes'] income=Decimal('25000.00') age=45 employed=True employment_status_details='Full-time'\n",
      "JSON representation: {\"name\": \"Doug Benedict\", \"account_id\": \"56874319\", \"medical_conditions\": [\"diabetes\"], \"income\": 25000.0, \"age\": 45, \"employed\": true, \"employment_status_details\": \"Full-time\"}\n"
     ]
    }
   ],
   "source": [
    "# Sample data\n",
    "data = {\n",
    "    'name': 'Doug Benedict',\n",
    "    'account_id': '56874319',\n",
    "    'age': 45,\n",
    "    'medical_conditions': ['diabetes'],\n",
    "    'income': '25000.00',\n",
    "    'employed': True,\n",
    "    'employment_status_details': 'Full-time'\n",
    "}\n",
    "\n",
    "try:\n",
    "    user = BenefitUser(**data)\n",
    "    print(\"Validated Benefit User:\", user)\n",
    "except ValueError as e:\n",
    "    print(\"Validation error:\", e)\n",
    "\n",
    "print('JSON representation: {json}'.format(json=user.json()))"
   ]
  },
  {
   "cell_type": "code",
   "execution_count": 102,
   "id": "3649822a-9974-4a25-b71e-2edc2d42d28f",
   "metadata": {},
   "outputs": [
    {
     "data": {
      "text/plain": [
       "BenefitUser(name='Doug Benedict', account_id='56874319', medical_conditions=['diabetes'], income=Decimal('25000.0'), age=45, employed=True, employment_status_details='Full-time')"
      ]
     },
     "execution_count": 102,
     "metadata": {},
     "output_type": "execute_result"
    }
   ],
   "source": [
    "# pydantic classes can also parse json \n",
    "BenefitUser.parse_raw(user.json())"
   ]
  },
  {
   "cell_type": "code",
   "execution_count": 107,
   "id": "29678b9e-7eac-40db-b308-70eff57a4dc5",
   "metadata": {},
   "outputs": [
    {
     "name": "stdout",
     "output_type": "stream",
     "text": [
      "1.10.12\n"
     ]
    }
   ],
   "source": [
    "import pydantic\n",
    "print(pydantic.__version__)"
   ]
  },
  {
   "cell_type": "code",
   "execution_count": 119,
   "id": "c845284f-2966-44f3-bcbd-46c840c9d4dd",
   "metadata": {},
   "outputs": [
    {
     "name": "stdout",
     "output_type": "stream",
     "text": [
      "Requirement already satisfied: pydantic in /opt/anaconda3/lib/python3.11/site-packages (1.10.12)\n",
      "Collecting pydantic\n",
      "  Downloading pydantic-2.8.2-py3-none-any.whl.metadata (125 kB)\n",
      "\u001b[2K     \u001b[90m━━━━━━━━━━━━━━━━━━━━━━━━━━━━━━━━━━━━━━━\u001b[0m \u001b[32m125.2/125.2 kB\u001b[0m \u001b[31m1.1 MB/s\u001b[0m eta \u001b[36m0:00:00\u001b[0ma \u001b[36m0:00:01\u001b[0m\n",
      "\u001b[?25hCollecting annotated-types>=0.4.0 (from pydantic)\n",
      "  Downloading annotated_types-0.7.0-py3-none-any.whl.metadata (15 kB)\n",
      "Collecting pydantic-core==2.20.1 (from pydantic)\n",
      "  Downloading pydantic_core-2.20.1-cp311-cp311-macosx_10_12_x86_64.whl.metadata (6.6 kB)\n",
      "Requirement already satisfied: typing-extensions>=4.6.1 in /opt/anaconda3/lib/python3.11/site-packages (from pydantic) (4.9.0)\n",
      "Downloading pydantic-2.8.2-py3-none-any.whl (423 kB)\n",
      "\u001b[2K   \u001b[90m━━━━━━━━━━━━━━━━━━━━━━━━━━━━━━━━━━━━━━━━\u001b[0m \u001b[32m423.9/423.9 kB\u001b[0m \u001b[31m1.1 MB/s\u001b[0m eta \u001b[36m0:00:00\u001b[0m00:01\u001b[0m00:01\u001b[0mm\n",
      "\u001b[?25hDownloading pydantic_core-2.20.1-cp311-cp311-macosx_10_12_x86_64.whl (1.8 MB)\n",
      "\u001b[2K   \u001b[90m━━━━━━━━━━━━━━━━━━━━━━━━━━━━━━━━━━━━━━━━\u001b[0m \u001b[32m1.8/1.8 MB\u001b[0m \u001b[31m1.6 MB/s\u001b[0m eta \u001b[36m0:00:00\u001b[0m00:01\u001b[0m00:01\u001b[0m\n",
      "\u001b[?25hDownloading annotated_types-0.7.0-py3-none-any.whl (13 kB)\n",
      "Installing collected packages: pydantic-core, annotated-types, pydantic\n",
      "  Attempting uninstall: pydantic\n",
      "    Found existing installation: pydantic 1.10.12\n",
      "    Uninstalling pydantic-1.10.12:\n",
      "      Successfully uninstalled pydantic-1.10.12\n",
      "Successfully installed annotated-types-0.7.0 pydantic-2.8.2 pydantic-core-2.20.1\n"
     ]
    }
   ],
   "source": [
    "# Update pydantic and let's rewrite out benefit user example without looking at anything to include \n",
    "! pip install --upgrade pydantic"
   ]
  },
  {
   "cell_type": "code",
   "execution_count": 31,
   "id": "0d89e495-0e0d-45a1-a097-641ab0148bef",
   "metadata": {},
   "outputs": [],
   "source": [
    "from pydantic import BaseModel, field_validator, conint, condecimal, constr, EmailStr\n",
    "from typing import List, Optional\n",
    "import datetime as dt\n",
    "\n",
    "class BenefitUser(BaseModel):\n",
    "    name: str\n",
    "    age: conint(ge=0)\n",
    "    email: EmailStr \n",
    "    application_date: dt.datetime | None\n",
    "    conditions: List[str]\n",
    "    income: condecimal(max_digits=10, decimal_places=2)\n",
    "    employment_status: bool\n",
    "\n",
    "    employment_status_details: Optional[str] | None\n",
    "\n",
    "    @field_validator('name')\n",
    "    def check_name(cls, v) -> constr:\n",
    "        if v.isnumeric() or not v:\n",
    "            raise TypeError('Name {v} is not a valid name'.format(v=v))\n",
    "        return v\n",
    "\n",
    "    @field_validator('age')\n",
    "    def check_age(cls, v) -> conint:\n",
    "        if v < 18:\n",
    "            raise ValueError('Must be 18 or older')\n",
    "        return v\n",
    "\n",
    "    @field_validator('application_date')\n",
    "    def check_application_date(cls, v) -> dt.datetime:\n",
    "        if v > dt.datetime.now():\n",
    "            raise ValueError('Date {v} is in the future'.format(v=v))\n",
    "        return v\n",
    "\n",
    "    @field_validator('conditions')\n",
    "    def check_conditions(cls, v) -> List[str]:\n",
    "        acceptable_conditions = {'heart disease', 'diabetes', 'cancer', 'bad brain'}\n",
    "        if not set(v) & acceptable_conditions:\n",
    "            raise ValueError('None of {v} are acceptable conditions'.format(v=','.join(v)))\n",
    "        return v\n",
    "\n",
    "    @field_validator('income')\n",
    "    def check_income(cls, v) -> condecimal:\n",
    "        if v < 0:\n",
    "            raise ValueError('Negative income is invalid')\n",
    "        return v\n",
    "\n",
    "dict_data = {\n",
    "    'name':'Joe',\n",
    "    'age':'43',\n",
    "    'email':'joe@gmail.com',\n",
    "    'application_date':dt.datetime.now(),\n",
    "    'conditions':['diabetes'],\n",
    "    'income':30000.00,\n",
    "    'employment_status':True,\n",
    "    'employment_status_details':'Full-Time'\n",
    "}\n",
    "\n",
    "try:\n",
    "    user = BenefitUser(**dict_data)\n",
    "    print('{user.name} validated as a BenefitUser object'.format(user=user))\n",
    "except Exception as e:\n",
    "    print('Exception {e} occurred trying to validate BenefitUser'.format(e=e))"
   ]
  },
  {
   "cell_type": "code",
   "execution_count": 41,
   "id": "80e395cd-7340-4987-9461-c60e4720bcc2",
   "metadata": {},
   "outputs": [
    {
     "name": "stdout",
     "output_type": "stream",
     "text": [
      "Exception 1 validation error for BenefitUser\n",
      "email\n",
      "  value is not a valid email address: An email address must have an @-sign. [type=value_error, input_value='gmail.com', input_type=str] occurred trying to validate BenefitUser\n"
     ]
    }
   ],
   "source": [
    "# try it with some bad data\n",
    "dict_data = {\n",
    "    'name':'Joe',\n",
    "    'age':'43',\n",
    "    'email':'joe@gmail.com',\n",
    "    'application_date':dt.datetime.now(),\n",
    "    'conditions':['cancer'],\n",
    "    'income':30000.00,\n",
    "    'employment_status':True,\n",
    "    'employment_status_details':'Full-Time'\n",
    "}\n",
    "\n",
    "try:\n",
    "    user = BenefitUser(**dict_data)\n",
    "    print('{user.name} validated as a BenefitUser object'.format(user=user))\n",
    "except Exception as e:\n",
    "    print('Exception {e} occurred trying to validate BenefitUser'.format(e=e))"
   ]
  },
  {
   "cell_type": "code",
   "execution_count": null,
   "id": "8b4383c5-97e0-43b7-a76a-6b65b4f29a71",
   "metadata": {},
   "outputs": [],
   "source": [
    "# what if we had to fetch json data from an API and validate our model?\n",
    "import requests\n",
    "import json\n",
    "\n",
    "# note since this code is fake it won't function below\n",
    "url = 'https://some_data.com/data'\n",
    "r = requests.get(url) # this probably has a lot of data in a real scenario\n",
    "my_users = [BenefitUser.parse_raw(element.content) for element in r.content] # creates a BenefitUser for each record in the get content"
   ]
  }
 ],
 "metadata": {
  "kernelspec": {
   "display_name": "Python 3 (ipykernel)",
   "language": "python",
   "name": "python3"
  },
  "language_info": {
   "codemirror_mode": {
    "name": "ipython",
    "version": 3
   },
   "file_extension": ".py",
   "mimetype": "text/x-python",
   "name": "python",
   "nbconvert_exporter": "python",
   "pygments_lexer": "ipython3",
   "version": "3.11.7"
  }
 },
 "nbformat": 4,
 "nbformat_minor": 5
}
